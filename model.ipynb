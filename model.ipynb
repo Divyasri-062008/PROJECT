{
  "nbformat": 4,
  "nbformat_minor": 0,
  "metadata": {
    "colab": {
      "provenance": [],
      "authorship_tag": "ABX9TyOQLKzaLejBLtCiX4bHw2pC",
      "include_colab_link": true
    },
    "kernelspec": {
      "name": "python3",
      "display_name": "Python 3"
    },
    "language_info": {
      "name": "python"
    }
  },
  "cells": [
    {
      "cell_type": "markdown",
      "metadata": {
        "id": "view-in-github",
        "colab_type": "text"
      },
      "source": [
        "<a href=\"https://colab.research.google.com/github/Divyasri-062008/PROJECT/blob/main/model.ipynb\" target=\"_parent\"><img src=\"https://colab.research.google.com/assets/colab-badge.svg\" alt=\"Open In Colab\"/></a>"
      ]
    },
    {
      "cell_type": "code",
      "execution_count": null,
      "metadata": {
        "id": "_dHSo_X4USXl"
      },
      "outputs": [],
      "source": [
        "\n",
        "class Eye:\n",
        "\n",
        "    def __init__(self, frame, position, pupil_center, pupil_radius, iris_radius, purkinje):\n",
        "        self.frame = frame\n",
        "        self.position = position\n",
        "        self.pupil_center = pupil_center\n",
        "        self.pupil_radius = pupil_radius\n",
        "        self.iris_radius = iris_radius\n",
        "        self.purkinje = purkinje\n",
        "\n",
        "    def __str__(self):\n",
        "        return \"Eye: {}\\n\\tPupil center: {}\\n\\tPupil radius: {}\\n\\tIris radius: {}\\n\\tPurkinje: {}\\n\".format(self.position, self.pupil_center, self.pupil_radius, self.iris_radius, self.purkinje)\n",
        "\n",
        "\n"
      ]
    }
  ]
}