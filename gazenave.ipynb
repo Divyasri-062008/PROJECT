{
  "nbformat": 4,
  "nbformat_minor": 0,
  "metadata": {
    "colab": {
      "provenance": [],
      "authorship_tag": "ABX9TyNXnHOzxY9yEDn7GWM2OYao",
      "include_colab_link": true
    },
    "kernelspec": {
      "name": "python3",
      "display_name": "Python 3"
    },
    "language_info": {
      "name": "python"
    }
  },
  "cells": [
    {
      "cell_type": "markdown",
      "metadata": {
        "id": "view-in-github",
        "colab_type": "text"
      },
      "source": [
        "<a href=\"https://colab.research.google.com/github/Divyasri-062008/PROJECT/blob/main/gazenave.ipynb\" target=\"_parent\"><img src=\"https://colab.research.google.com/assets/colab-badge.svg\" alt=\"Open In Colab\"/></a>"
      ]
    },
    {
      "cell_type": "code",
      "execution_count": null,
      "metadata": {
        "id": "gxjXY_mcTPdb"
      },
      "outputs": [],
      "source": [
        "import cv2\n",
        "import math\n",
        "import time\n",
        "import numpy as np\n",
        "import sklearn\n",
        "from threading import Thread\n",
        "\n",
        "from eye_tracker import EyeTracker\n",
        "from model import Eye\n",
        "from calibration import Calibration\n",
        "\n",
        "class GazeTracker():\n",
        "\n",
        "    def __init__(self):\n",
        "        super().__init__()\n",
        "\n",
        "        self.calibration = Calibration()\n",
        "        self.eye_tracker = EyeTracker()\n",
        "        self.vector = None\n",
        "        self.left_eye = None\n",
        "        self.right_eye = None\n",
        "\n",
        "    def update(self, frame):\n",
        "\n",
        "        self.eye_tracker.update(frame)\n",
        "        self.left_eye = self.eye_tracker.left_eye()\n",
        "        self.right_eye = self.eye_tracker.right_eye()\n",
        "        self._calculate_vector()\n",
        "\n",
        "\n",
        "    def _calculate_vector(self):\n",
        "\n",
        "        vector = None\n",
        "        vector_left = None\n",
        "        vector_right = None\n",
        "#        print(self.left_eye)\n",
        "#        print(self.right_eye)\n",
        "        if self.left_eye and self.left_eye.purkinje and self.left_eye.pupil_center:\n",
        "            vector_left = (self.left_eye.purkinje[0] - self.left_eye.pupil_center[0], self.left_eye.purkinje[1] - self.left_eye.pupil_center[1])\n",
        "        if self.right_eye and self.right_eye.purkinje and self.right_eye.pupil_center:\n",
        "            vector_right = (self.right_eye.purkinje[0] - self.right_eye.pupil_center[0], self.right_eye.purkinje[1] - self.right_eye.pupil_center[1])\n",
        "\n",
        "        if vector_left:\n",
        "            vector = vector_left\n",
        "        elif vector_right:\n",
        "            vector = vector_right\n",
        "        elif vector_left and vector_right:\n",
        "            vector = ((vector_left[0] + vector_right[0]) // 2, (vector_left[1] + vector_right[1]) // 2)\n",
        "\n",
        "        self.vector = vector\n",
        "\n",
        "    def get_vector(self):\n",
        "        return self.vector\n",
        "\n",
        "    def get_gaze(self):\n",
        "\n",
        "        gaze = None\n",
        "        if self.vector:\n",
        "#            try:\n",
        "            gaze = self.calibration.compute(self.vector)\n",
        "#            except sklearn.exceptions.NotFittedError:\n",
        "#            except:\n",
        "#                print(\"CALIBRATION REQUIRED!\")\n",
        "\n",
        "        return gaze\n"
      ]
    },
    {
      "cell_type": "code",
      "source": [],
      "metadata": {
        "id": "1WZClAImTYl-"
      },
      "execution_count": null,
      "outputs": []
    }
  ]
}